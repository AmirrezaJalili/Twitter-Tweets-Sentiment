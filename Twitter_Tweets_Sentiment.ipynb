{
  "nbformat": 4,
  "nbformat_minor": 0,
  "metadata": {
    "colab": {
      "name": "Twitter Tweets Sentiment.ipynb",
      "provenance": []
    },
    "kernelspec": {
      "name": "python3",
      "display_name": "Python 3"
    },
    "language_info": {
      "name": "python"
    },
    "accelerator": "GPU"
  },
  "cells": [
    {
      "cell_type": "markdown",
      "source": [
        "# Twitter Tweets Sentiment 👍😐👎"
      ],
      "metadata": {
        "id": "F8lwVK0W9jvV"
      }
    },
    {
      "cell_type": "markdown",
      "source": [
        "## Importing necessary tools"
      ],
      "metadata": {
        "id": "C3piGNqBDPPp"
      }
    },
    {
      "cell_type": "code",
      "source": [
        "import pandas as pd\n",
        "import numpy as np\n",
        "import tensorflow as tf\n",
        "import matplotlib.pyplot as plt\n",
        "from sklearn.model_selection import train_test_split\n",
        "import random\n",
        "from random import randint\n",
        "from tensorflow.keras.layers.experimental.preprocessing import TextVectorization\n",
        "from tensorflow.keras import layers\n",
        "from sklearn.preprocessing import LabelBinarizer"
      ],
      "metadata": {
        "id": "NU93A2xB6zgL"
      },
      "execution_count": 1,
      "outputs": []
    },
    {
      "cell_type": "markdown",
      "source": [
        "## Unzip data\n",
        "data: https://www.kaggle.com/datasets/yasserh/twitter-tweets-sentiment-dataset\n"
      ],
      "metadata": {
        "id": "uEuyyrk3EUbv"
      }
    },
    {
      "cell_type": "code",
      "execution_count": 2,
      "metadata": {
        "id": "srg2We7D5KLc"
      },
      "outputs": [],
      "source": [
        "# !unzip \"drive/MyDrive/deep learning/zip files/Twitter Tweets Sentiment Dataset.zip\" -d \"drive/MyDrive/deep learning/data/Twitter Tweets Sentiment Dataset\""
      ]
    },
    {
      "cell_type": "markdown",
      "source": [
        "## Walk trough dataset"
      ],
      "metadata": {
        "id": "Ewr05fdrFR_L"
      }
    },
    {
      "cell_type": "code",
      "source": [
        "df = pd.read_csv(\"drive/MyDrive/deep learning/data/Twitter Tweets Sentiment Dataset/Tweets.csv\")\n",
        "df"
      ],
      "metadata": {
        "colab": {
          "base_uri": "https://localhost:8080/",
          "height": 503
        },
        "id": "Y0IfF97Q6enp",
        "outputId": "c5e51628-3d7d-44f7-8b6b-7109b8b45c65"
      },
      "execution_count": 3,
      "outputs": [
        {
          "output_type": "execute_result",
          "data": {
            "text/plain": [
              "           textID                                               text  \\\n",
              "0      cb774db0d1                I`d have responded, if I were going   \n",
              "1      549e992a42      Sooo SAD I will miss you here in San Diego!!!   \n",
              "2      088c60f138                          my boss is bullying me...   \n",
              "3      9642c003ef                     what interview! leave me alone   \n",
              "4      358bd9e861   Sons of ****, why couldn`t they put them on t...   \n",
              "...           ...                                                ...   \n",
              "27476  4eac33d1c0   wish we could come see u on Denver  husband l...   \n",
              "27477  4f4c4fc327   I`ve wondered about rake to.  The client has ...   \n",
              "27478  f67aae2310   Yay good for both of you. Enjoy the break - y...   \n",
              "27479  ed167662a5                         But it was worth it  ****.   \n",
              "27480  6f7127d9d7     All this flirting going on - The ATG smiles...   \n",
              "\n",
              "                                           selected_text sentiment  \n",
              "0                    I`d have responded, if I were going   neutral  \n",
              "1                                               Sooo SAD  negative  \n",
              "2                                            bullying me  negative  \n",
              "3                                         leave me alone  negative  \n",
              "4                                          Sons of ****,  negative  \n",
              "...                                                  ...       ...  \n",
              "27476                                             d lost  negative  \n",
              "27477                                      , don`t force  negative  \n",
              "27478                          Yay good for both of you.  positive  \n",
              "27479                         But it was worth it  ****.  positive  \n",
              "27480  All this flirting going on - The ATG smiles. Y...   neutral  \n",
              "\n",
              "[27481 rows x 4 columns]"
            ],
            "text/html": [
              "\n",
              "  <div id=\"df-83c98f54-563b-42dc-b42c-8262ef3f14b3\">\n",
              "    <div class=\"colab-df-container\">\n",
              "      <div>\n",
              "<style scoped>\n",
              "    .dataframe tbody tr th:only-of-type {\n",
              "        vertical-align: middle;\n",
              "    }\n",
              "\n",
              "    .dataframe tbody tr th {\n",
              "        vertical-align: top;\n",
              "    }\n",
              "\n",
              "    .dataframe thead th {\n",
              "        text-align: right;\n",
              "    }\n",
              "</style>\n",
              "<table border=\"1\" class=\"dataframe\">\n",
              "  <thead>\n",
              "    <tr style=\"text-align: right;\">\n",
              "      <th></th>\n",
              "      <th>textID</th>\n",
              "      <th>text</th>\n",
              "      <th>selected_text</th>\n",
              "      <th>sentiment</th>\n",
              "    </tr>\n",
              "  </thead>\n",
              "  <tbody>\n",
              "    <tr>\n",
              "      <th>0</th>\n",
              "      <td>cb774db0d1</td>\n",
              "      <td>I`d have responded, if I were going</td>\n",
              "      <td>I`d have responded, if I were going</td>\n",
              "      <td>neutral</td>\n",
              "    </tr>\n",
              "    <tr>\n",
              "      <th>1</th>\n",
              "      <td>549e992a42</td>\n",
              "      <td>Sooo SAD I will miss you here in San Diego!!!</td>\n",
              "      <td>Sooo SAD</td>\n",
              "      <td>negative</td>\n",
              "    </tr>\n",
              "    <tr>\n",
              "      <th>2</th>\n",
              "      <td>088c60f138</td>\n",
              "      <td>my boss is bullying me...</td>\n",
              "      <td>bullying me</td>\n",
              "      <td>negative</td>\n",
              "    </tr>\n",
              "    <tr>\n",
              "      <th>3</th>\n",
              "      <td>9642c003ef</td>\n",
              "      <td>what interview! leave me alone</td>\n",
              "      <td>leave me alone</td>\n",
              "      <td>negative</td>\n",
              "    </tr>\n",
              "    <tr>\n",
              "      <th>4</th>\n",
              "      <td>358bd9e861</td>\n",
              "      <td>Sons of ****, why couldn`t they put them on t...</td>\n",
              "      <td>Sons of ****,</td>\n",
              "      <td>negative</td>\n",
              "    </tr>\n",
              "    <tr>\n",
              "      <th>...</th>\n",
              "      <td>...</td>\n",
              "      <td>...</td>\n",
              "      <td>...</td>\n",
              "      <td>...</td>\n",
              "    </tr>\n",
              "    <tr>\n",
              "      <th>27476</th>\n",
              "      <td>4eac33d1c0</td>\n",
              "      <td>wish we could come see u on Denver  husband l...</td>\n",
              "      <td>d lost</td>\n",
              "      <td>negative</td>\n",
              "    </tr>\n",
              "    <tr>\n",
              "      <th>27477</th>\n",
              "      <td>4f4c4fc327</td>\n",
              "      <td>I`ve wondered about rake to.  The client has ...</td>\n",
              "      <td>, don`t force</td>\n",
              "      <td>negative</td>\n",
              "    </tr>\n",
              "    <tr>\n",
              "      <th>27478</th>\n",
              "      <td>f67aae2310</td>\n",
              "      <td>Yay good for both of you. Enjoy the break - y...</td>\n",
              "      <td>Yay good for both of you.</td>\n",
              "      <td>positive</td>\n",
              "    </tr>\n",
              "    <tr>\n",
              "      <th>27479</th>\n",
              "      <td>ed167662a5</td>\n",
              "      <td>But it was worth it  ****.</td>\n",
              "      <td>But it was worth it  ****.</td>\n",
              "      <td>positive</td>\n",
              "    </tr>\n",
              "    <tr>\n",
              "      <th>27480</th>\n",
              "      <td>6f7127d9d7</td>\n",
              "      <td>All this flirting going on - The ATG smiles...</td>\n",
              "      <td>All this flirting going on - The ATG smiles. Y...</td>\n",
              "      <td>neutral</td>\n",
              "    </tr>\n",
              "  </tbody>\n",
              "</table>\n",
              "<p>27481 rows × 4 columns</p>\n",
              "</div>\n",
              "      <button class=\"colab-df-convert\" onclick=\"convertToInteractive('df-83c98f54-563b-42dc-b42c-8262ef3f14b3')\"\n",
              "              title=\"Convert this dataframe to an interactive table.\"\n",
              "              style=\"display:none;\">\n",
              "        \n",
              "  <svg xmlns=\"http://www.w3.org/2000/svg\" height=\"24px\"viewBox=\"0 0 24 24\"\n",
              "       width=\"24px\">\n",
              "    <path d=\"M0 0h24v24H0V0z\" fill=\"none\"/>\n",
              "    <path d=\"M18.56 5.44l.94 2.06.94-2.06 2.06-.94-2.06-.94-.94-2.06-.94 2.06-2.06.94zm-11 1L8.5 8.5l.94-2.06 2.06-.94-2.06-.94L8.5 2.5l-.94 2.06-2.06.94zm10 10l.94 2.06.94-2.06 2.06-.94-2.06-.94-.94-2.06-.94 2.06-2.06.94z\"/><path d=\"M17.41 7.96l-1.37-1.37c-.4-.4-.92-.59-1.43-.59-.52 0-1.04.2-1.43.59L10.3 9.45l-7.72 7.72c-.78.78-.78 2.05 0 2.83L4 21.41c.39.39.9.59 1.41.59.51 0 1.02-.2 1.41-.59l7.78-7.78 2.81-2.81c.8-.78.8-2.07 0-2.86zM5.41 20L4 18.59l7.72-7.72 1.47 1.35L5.41 20z\"/>\n",
              "  </svg>\n",
              "      </button>\n",
              "      \n",
              "  <style>\n",
              "    .colab-df-container {\n",
              "      display:flex;\n",
              "      flex-wrap:wrap;\n",
              "      gap: 12px;\n",
              "    }\n",
              "\n",
              "    .colab-df-convert {\n",
              "      background-color: #E8F0FE;\n",
              "      border: none;\n",
              "      border-radius: 50%;\n",
              "      cursor: pointer;\n",
              "      display: none;\n",
              "      fill: #1967D2;\n",
              "      height: 32px;\n",
              "      padding: 0 0 0 0;\n",
              "      width: 32px;\n",
              "    }\n",
              "\n",
              "    .colab-df-convert:hover {\n",
              "      background-color: #E2EBFA;\n",
              "      box-shadow: 0px 1px 2px rgba(60, 64, 67, 0.3), 0px 1px 3px 1px rgba(60, 64, 67, 0.15);\n",
              "      fill: #174EA6;\n",
              "    }\n",
              "\n",
              "    [theme=dark] .colab-df-convert {\n",
              "      background-color: #3B4455;\n",
              "      fill: #D2E3FC;\n",
              "    }\n",
              "\n",
              "    [theme=dark] .colab-df-convert:hover {\n",
              "      background-color: #434B5C;\n",
              "      box-shadow: 0px 1px 3px 1px rgba(0, 0, 0, 0.15);\n",
              "      filter: drop-shadow(0px 1px 2px rgba(0, 0, 0, 0.3));\n",
              "      fill: #FFFFFF;\n",
              "    }\n",
              "  </style>\n",
              "\n",
              "      <script>\n",
              "        const buttonEl =\n",
              "          document.querySelector('#df-83c98f54-563b-42dc-b42c-8262ef3f14b3 button.colab-df-convert');\n",
              "        buttonEl.style.display =\n",
              "          google.colab.kernel.accessAllowed ? 'block' : 'none';\n",
              "\n",
              "        async function convertToInteractive(key) {\n",
              "          const element = document.querySelector('#df-83c98f54-563b-42dc-b42c-8262ef3f14b3');\n",
              "          const dataTable =\n",
              "            await google.colab.kernel.invokeFunction('convertToInteractive',\n",
              "                                                     [key], {});\n",
              "          if (!dataTable) return;\n",
              "\n",
              "          const docLinkHtml = 'Like what you see? Visit the ' +\n",
              "            '<a target=\"_blank\" href=https://colab.research.google.com/notebooks/data_table.ipynb>data table notebook</a>'\n",
              "            + ' to learn more about interactive tables.';\n",
              "          element.innerHTML = '';\n",
              "          dataTable['output_type'] = 'display_data';\n",
              "          await google.colab.output.renderOutput(dataTable, element);\n",
              "          const docLink = document.createElement('div');\n",
              "          docLink.innerHTML = docLinkHtml;\n",
              "          element.appendChild(docLink);\n",
              "        }\n",
              "      </script>\n",
              "    </div>\n",
              "  </div>\n",
              "  "
            ]
          },
          "metadata": {},
          "execution_count": 3
        }
      ]
    },
    {
      "cell_type": "code",
      "source": [
        "df = df.dropna()\n",
        "df"
      ],
      "metadata": {
        "colab": {
          "base_uri": "https://localhost:8080/",
          "height": 503
        },
        "id": "-c_ZnzQuvf5u",
        "outputId": "8fcd0899-1ad0-48ba-b56b-189ecf271638"
      },
      "execution_count": 4,
      "outputs": [
        {
          "output_type": "execute_result",
          "data": {
            "text/plain": [
              "           textID                                               text  \\\n",
              "0      cb774db0d1                I`d have responded, if I were going   \n",
              "1      549e992a42      Sooo SAD I will miss you here in San Diego!!!   \n",
              "2      088c60f138                          my boss is bullying me...   \n",
              "3      9642c003ef                     what interview! leave me alone   \n",
              "4      358bd9e861   Sons of ****, why couldn`t they put them on t...   \n",
              "...           ...                                                ...   \n",
              "27476  4eac33d1c0   wish we could come see u on Denver  husband l...   \n",
              "27477  4f4c4fc327   I`ve wondered about rake to.  The client has ...   \n",
              "27478  f67aae2310   Yay good for both of you. Enjoy the break - y...   \n",
              "27479  ed167662a5                         But it was worth it  ****.   \n",
              "27480  6f7127d9d7     All this flirting going on - The ATG smiles...   \n",
              "\n",
              "                                           selected_text sentiment  \n",
              "0                    I`d have responded, if I were going   neutral  \n",
              "1                                               Sooo SAD  negative  \n",
              "2                                            bullying me  negative  \n",
              "3                                         leave me alone  negative  \n",
              "4                                          Sons of ****,  negative  \n",
              "...                                                  ...       ...  \n",
              "27476                                             d lost  negative  \n",
              "27477                                      , don`t force  negative  \n",
              "27478                          Yay good for both of you.  positive  \n",
              "27479                         But it was worth it  ****.  positive  \n",
              "27480  All this flirting going on - The ATG smiles. Y...   neutral  \n",
              "\n",
              "[27480 rows x 4 columns]"
            ],
            "text/html": [
              "\n",
              "  <div id=\"df-fbfb38a9-8b67-4280-bc00-d00230350118\">\n",
              "    <div class=\"colab-df-container\">\n",
              "      <div>\n",
              "<style scoped>\n",
              "    .dataframe tbody tr th:only-of-type {\n",
              "        vertical-align: middle;\n",
              "    }\n",
              "\n",
              "    .dataframe tbody tr th {\n",
              "        vertical-align: top;\n",
              "    }\n",
              "\n",
              "    .dataframe thead th {\n",
              "        text-align: right;\n",
              "    }\n",
              "</style>\n",
              "<table border=\"1\" class=\"dataframe\">\n",
              "  <thead>\n",
              "    <tr style=\"text-align: right;\">\n",
              "      <th></th>\n",
              "      <th>textID</th>\n",
              "      <th>text</th>\n",
              "      <th>selected_text</th>\n",
              "      <th>sentiment</th>\n",
              "    </tr>\n",
              "  </thead>\n",
              "  <tbody>\n",
              "    <tr>\n",
              "      <th>0</th>\n",
              "      <td>cb774db0d1</td>\n",
              "      <td>I`d have responded, if I were going</td>\n",
              "      <td>I`d have responded, if I were going</td>\n",
              "      <td>neutral</td>\n",
              "    </tr>\n",
              "    <tr>\n",
              "      <th>1</th>\n",
              "      <td>549e992a42</td>\n",
              "      <td>Sooo SAD I will miss you here in San Diego!!!</td>\n",
              "      <td>Sooo SAD</td>\n",
              "      <td>negative</td>\n",
              "    </tr>\n",
              "    <tr>\n",
              "      <th>2</th>\n",
              "      <td>088c60f138</td>\n",
              "      <td>my boss is bullying me...</td>\n",
              "      <td>bullying me</td>\n",
              "      <td>negative</td>\n",
              "    </tr>\n",
              "    <tr>\n",
              "      <th>3</th>\n",
              "      <td>9642c003ef</td>\n",
              "      <td>what interview! leave me alone</td>\n",
              "      <td>leave me alone</td>\n",
              "      <td>negative</td>\n",
              "    </tr>\n",
              "    <tr>\n",
              "      <th>4</th>\n",
              "      <td>358bd9e861</td>\n",
              "      <td>Sons of ****, why couldn`t they put them on t...</td>\n",
              "      <td>Sons of ****,</td>\n",
              "      <td>negative</td>\n",
              "    </tr>\n",
              "    <tr>\n",
              "      <th>...</th>\n",
              "      <td>...</td>\n",
              "      <td>...</td>\n",
              "      <td>...</td>\n",
              "      <td>...</td>\n",
              "    </tr>\n",
              "    <tr>\n",
              "      <th>27476</th>\n",
              "      <td>4eac33d1c0</td>\n",
              "      <td>wish we could come see u on Denver  husband l...</td>\n",
              "      <td>d lost</td>\n",
              "      <td>negative</td>\n",
              "    </tr>\n",
              "    <tr>\n",
              "      <th>27477</th>\n",
              "      <td>4f4c4fc327</td>\n",
              "      <td>I`ve wondered about rake to.  The client has ...</td>\n",
              "      <td>, don`t force</td>\n",
              "      <td>negative</td>\n",
              "    </tr>\n",
              "    <tr>\n",
              "      <th>27478</th>\n",
              "      <td>f67aae2310</td>\n",
              "      <td>Yay good for both of you. Enjoy the break - y...</td>\n",
              "      <td>Yay good for both of you.</td>\n",
              "      <td>positive</td>\n",
              "    </tr>\n",
              "    <tr>\n",
              "      <th>27479</th>\n",
              "      <td>ed167662a5</td>\n",
              "      <td>But it was worth it  ****.</td>\n",
              "      <td>But it was worth it  ****.</td>\n",
              "      <td>positive</td>\n",
              "    </tr>\n",
              "    <tr>\n",
              "      <th>27480</th>\n",
              "      <td>6f7127d9d7</td>\n",
              "      <td>All this flirting going on - The ATG smiles...</td>\n",
              "      <td>All this flirting going on - The ATG smiles. Y...</td>\n",
              "      <td>neutral</td>\n",
              "    </tr>\n",
              "  </tbody>\n",
              "</table>\n",
              "<p>27480 rows × 4 columns</p>\n",
              "</div>\n",
              "      <button class=\"colab-df-convert\" onclick=\"convertToInteractive('df-fbfb38a9-8b67-4280-bc00-d00230350118')\"\n",
              "              title=\"Convert this dataframe to an interactive table.\"\n",
              "              style=\"display:none;\">\n",
              "        \n",
              "  <svg xmlns=\"http://www.w3.org/2000/svg\" height=\"24px\"viewBox=\"0 0 24 24\"\n",
              "       width=\"24px\">\n",
              "    <path d=\"M0 0h24v24H0V0z\" fill=\"none\"/>\n",
              "    <path d=\"M18.56 5.44l.94 2.06.94-2.06 2.06-.94-2.06-.94-.94-2.06-.94 2.06-2.06.94zm-11 1L8.5 8.5l.94-2.06 2.06-.94-2.06-.94L8.5 2.5l-.94 2.06-2.06.94zm10 10l.94 2.06.94-2.06 2.06-.94-2.06-.94-.94-2.06-.94 2.06-2.06.94z\"/><path d=\"M17.41 7.96l-1.37-1.37c-.4-.4-.92-.59-1.43-.59-.52 0-1.04.2-1.43.59L10.3 9.45l-7.72 7.72c-.78.78-.78 2.05 0 2.83L4 21.41c.39.39.9.59 1.41.59.51 0 1.02-.2 1.41-.59l7.78-7.78 2.81-2.81c.8-.78.8-2.07 0-2.86zM5.41 20L4 18.59l7.72-7.72 1.47 1.35L5.41 20z\"/>\n",
              "  </svg>\n",
              "      </button>\n",
              "      \n",
              "  <style>\n",
              "    .colab-df-container {\n",
              "      display:flex;\n",
              "      flex-wrap:wrap;\n",
              "      gap: 12px;\n",
              "    }\n",
              "\n",
              "    .colab-df-convert {\n",
              "      background-color: #E8F0FE;\n",
              "      border: none;\n",
              "      border-radius: 50%;\n",
              "      cursor: pointer;\n",
              "      display: none;\n",
              "      fill: #1967D2;\n",
              "      height: 32px;\n",
              "      padding: 0 0 0 0;\n",
              "      width: 32px;\n",
              "    }\n",
              "\n",
              "    .colab-df-convert:hover {\n",
              "      background-color: #E2EBFA;\n",
              "      box-shadow: 0px 1px 2px rgba(60, 64, 67, 0.3), 0px 1px 3px 1px rgba(60, 64, 67, 0.15);\n",
              "      fill: #174EA6;\n",
              "    }\n",
              "\n",
              "    [theme=dark] .colab-df-convert {\n",
              "      background-color: #3B4455;\n",
              "      fill: #D2E3FC;\n",
              "    }\n",
              "\n",
              "    [theme=dark] .colab-df-convert:hover {\n",
              "      background-color: #434B5C;\n",
              "      box-shadow: 0px 1px 3px 1px rgba(0, 0, 0, 0.15);\n",
              "      filter: drop-shadow(0px 1px 2px rgba(0, 0, 0, 0.3));\n",
              "      fill: #FFFFFF;\n",
              "    }\n",
              "  </style>\n",
              "\n",
              "      <script>\n",
              "        const buttonEl =\n",
              "          document.querySelector('#df-fbfb38a9-8b67-4280-bc00-d00230350118 button.colab-df-convert');\n",
              "        buttonEl.style.display =\n",
              "          google.colab.kernel.accessAllowed ? 'block' : 'none';\n",
              "\n",
              "        async function convertToInteractive(key) {\n",
              "          const element = document.querySelector('#df-fbfb38a9-8b67-4280-bc00-d00230350118');\n",
              "          const dataTable =\n",
              "            await google.colab.kernel.invokeFunction('convertToInteractive',\n",
              "                                                     [key], {});\n",
              "          if (!dataTable) return;\n",
              "\n",
              "          const docLinkHtml = 'Like what you see? Visit the ' +\n",
              "            '<a target=\"_blank\" href=https://colab.research.google.com/notebooks/data_table.ipynb>data table notebook</a>'\n",
              "            + ' to learn more about interactive tables.';\n",
              "          element.innerHTML = '';\n",
              "          dataTable['output_type'] = 'display_data';\n",
              "          await google.colab.output.renderOutput(dataTable, element);\n",
              "          const docLink = document.createElement('div');\n",
              "          docLink.innerHTML = docLinkHtml;\n",
              "          element.appendChild(docLink);\n",
              "        }\n",
              "      </script>\n",
              "    </div>\n",
              "  </div>\n",
              "  "
            ]
          },
          "metadata": {},
          "execution_count": 4
        }
      ]
    },
    {
      "cell_type": "code",
      "source": [
        "#let's find out how many of each class there\n",
        "df[\"sentiment\"].value_counts()"
      ],
      "metadata": {
        "id": "1iCoTpdL6wV8",
        "colab": {
          "base_uri": "https://localhost:8080/"
        },
        "outputId": "c272313b-6fc1-414d-f0d1-301559033c9c"
      },
      "execution_count": 5,
      "outputs": [
        {
          "output_type": "execute_result",
          "data": {
            "text/plain": [
              "neutral     11117\n",
              "positive     8582\n",
              "negative     7781\n",
              "Name: sentiment, dtype: int64"
            ]
          },
          "metadata": {},
          "execution_count": 5
        }
      ]
    },
    {
      "cell_type": "code",
      "source": [
        "df[\"sentiment\"].value_counts().plot(kind=\"bar\", color='tomato')"
      ],
      "metadata": {
        "colab": {
          "base_uri": "https://localhost:8080/",
          "height": 316
        },
        "id": "2DvtNBz1FoyR",
        "outputId": "f3d3fa0b-afe0-4b54-f88e-cc214fb2b4b2"
      },
      "execution_count": 6,
      "outputs": [
        {
          "output_type": "execute_result",
          "data": {
            "text/plain": [
              "<matplotlib.axes._subplots.AxesSubplot at 0x7ff7be2c3dd0>"
            ]
          },
          "metadata": {},
          "execution_count": 6
        },
        {
          "output_type": "display_data",
          "data": {
            "text/plain": [
              "<Figure size 432x288 with 1 Axes>"
            ],
            "image/png": "[encoded data removed]"
          },
          "metadata": {
            "needs_background": "light"
          }
        }
      ]
    },
    {
      "cell_type": "code",
      "source": [
        "for i in range(10):\n",
        "  num = randint(0, len(df))\n",
        "  sentence = df[\"text\"][num]\n",
        "  label = df[\"sentiment\"][num]\n",
        "  print(f\"{label}:\\n\\t{sentence}\")"
      ],
      "metadata": {
        "colab": {
          "base_uri": "https://localhost:8080/"
        },
        "id": "peRwB5lwPn6Y",
        "outputId": "ab14b092-8046-4287-ac8d-2dfc5014a41f"
      },
      "execution_count": 7,
      "outputs": [
        {
          "output_type": "stream",
          "name": "stdout",
          "text": [
            "neutral:\n",
            "\t yep\n",
            "positive:\n",
            "\t  I read somewhere they were restoring the name, hope it happens soon\n",
            "neutral:\n",
            "\t_dee yeah, i bought some when I was making those crispy waffles\n",
            "neutral:\n",
            "\t Isn`t he awesome?? There are tons more coming, that was just one of three locations\n",
            "neutral:\n",
            "\tword is marlon brando gave him 25 cent . . . yeah , tha GODFATHER\n",
            "neutral:\n",
            "\tbye bye South Beach....u never let me down\n",
            "neutral:\n",
            "\tJust had some babi pangang. Now off to friends. Tomorrow it`s working time again\n",
            "negative:\n",
            "\tis sooo stressed about everything I have to do\n",
            "positive:\n",
            "\t nice .. I can`t ever get that from my ex!\n",
            "positive:\n",
            "\t Haha.. Hey you should check out   Love her/his tweets\n"
          ]
        }
      ]
    },
    {
      "cell_type": "markdown",
      "source": [
        "## split data to train and test\n"
      ],
      "metadata": {
        "id": "EyqEI6VtK2lZ"
      }
    },
    {
      "cell_type": "code",
      "source": [
        "train_sentences, val_sentences, train_labels, val_labels = train_test_split(df[\"text\"].to_numpy(),\n",
        "                                                                            df[\"sentiment\"].to_numpy(),\n",
        "                                                                            random_state=42,\n",
        "                                                                            test_size=0.1)\n",
        "len(train_sentences), len(train_labels), len(val_sentences), len(val_labels)"
      ],
      "metadata": {
        "colab": {
          "base_uri": "https://localhost:8080/"
        },
        "id": "bhx-6b18L8C7",
        "outputId": "838b2dce-181a-42a3-acf7-be9dfd641c3e"
      },
      "execution_count": 8,
      "outputs": [
        {
          "output_type": "execute_result",
          "data": {
            "text/plain": [
              "(24732, 24732, 2748, 2748)"
            ]
          },
          "metadata": {},
          "execution_count": 8
        }
      ]
    },
    {
      "cell_type": "markdown",
      "source": [
        "## Preprocessing\n",
        "### vectorization(tokenization)"
      ],
      "metadata": {
        "id": "EJn_NwgWNasw"
      }
    },
    {
      "cell_type": "code",
      "source": [
        "lb = LabelBinarizer()\n",
        "train_labels = lb.fit_transform(train_labels)\n",
        "val_labels = lb.fit_transform(val_labels)\n",
        "train_labels, val_labels"
      ],
      "metadata": {
        "colab": {
          "base_uri": "https://localhost:8080/"
        },
        "id": "gsxa_VJhSsN8",
        "outputId": "504285ba-c328-48b3-9661-9c3b8ca70814"
      },
      "execution_count": 9,
      "outputs": [
        {
          "output_type": "execute_result",
          "data": {
            "text/plain": [
              "(array([[0, 0, 1],\n",
              "        [0, 0, 1],\n",
              "        [1, 0, 0],\n",
              "        ...,\n",
              "        [0, 1, 0],\n",
              "        [0, 0, 1],\n",
              "        [0, 0, 1]]), array([[0, 0, 1],\n",
              "        [1, 0, 0],\n",
              "        [0, 1, 0],\n",
              "        ...,\n",
              "        [0, 1, 0],\n",
              "        [0, 1, 0],\n",
              "        [0, 1, 0]]))"
            ]
          },
          "metadata": {},
          "execution_count": 9
        }
      ]
    },
    {
      "cell_type": "code",
      "source": [
        "SEQ_LENGTH = sum([len(i.split()) for i in train_sentences])//len(train_sentences)\n",
        "SEQ_LENGTH"
      ],
      "metadata": {
        "colab": {
          "base_uri": "https://localhost:8080/"
        },
        "id": "uTCiusLDjppn",
        "outputId": "97fcd824-b2b0-498f-f9d2-b78cb7496e45"
      },
      "execution_count": 10,
      "outputs": [
        {
          "output_type": "execute_result",
          "data": {
            "text/plain": [
              "12"
            ]
          },
          "metadata": {},
          "execution_count": 10
        }
      ]
    },
    {
      "cell_type": "code",
      "source": [
        "from re import split\n",
        "text_vectorizer = TextVectorization(max_tokens=10000,\n",
        "                                    standardize=\"lower_and_strip_punctuation\",\n",
        "                                    split=\"whitespace\",\n",
        "                                    output_mode=\"int\",\n",
        "                                    output_sequence_length=SEQ_LENGTH)"
      ],
      "metadata": {
        "id": "4jCZQ3NOPU3c"
      },
      "execution_count": 11,
      "outputs": []
    },
    {
      "cell_type": "markdown",
      "source": [
        "## creating model"
      ],
      "metadata": {
        "id": "ywyKQp-AsWSj"
      }
    },
    {
      "cell_type": "code",
      "source": [
        "embedding = layers.Embedding(input_dim=10000,\n",
        "                                      output_dim=64,\n",
        "                                      input_length=SEQ_LENGTH,\n",
        "                                      name=\"embedding_1\")\n",
        "embedding"
      ],
      "metadata": {
        "colab": {
          "base_uri": "https://localhost:8080/"
        },
        "id": "0pAd8jcQGgy_",
        "outputId": "d050a79a-765b-4171-a3fb-ea38c7454c4f"
      },
      "execution_count": 12,
      "outputs": [
        {
          "output_type": "execute_result",
          "data": {
            "text/plain": [
              "<keras.layers.embeddings.Embedding at 0x7ff7b07040d0>"
            ]
          },
          "metadata": {},
          "execution_count": 12
        }
      ]
    },
    {
      "cell_type": "code",
      "source": [
        "text_vectorizer.adapt(train_sentences)\n",
        "random_sentence = random.choice(train_sentences)\n",
        "print(f\"original sentence:\\n\\t{random_sentence}\\nvectorized sentence:\\n\\t{text_vectorizer([random_sentence])}\\nembedded sentence:\\n\\t{embedding(text_vectorizer([random_sentence]))}\")"
      ],
      "metadata": {
        "colab": {
          "base_uri": "https://localhost:8080/"
        },
        "id": "BP5dNOiur7nI",
        "outputId": "9a4eefc1-28ea-4e7d-969e-45cbb96214c7"
      },
      "execution_count": 13,
      "outputs": [
        {
          "output_type": "stream",
          "name": "stdout",
          "text": [
            "original sentence:\n",
            "\tYay my friend Glen is here. Now i`m like this\n",
            "vectorized sentence:\n",
            "\t[[ 216    6  253 8436   10   88   32   14   37   30    0    0]]\n",
            "embedded sentence:\n",
            "\t[[[-0.03110277 -0.01330758 -0.03383029 -0.00600159 -0.0342521\n",
            "    0.04368881 -0.02024     0.00124577  0.02928175  0.00744385\n",
            "   -0.00866356  0.02138518  0.0428087   0.0372729  -0.01523215\n",
            "    0.02592495  0.03401678  0.04360704 -0.00341929 -0.00467843\n",
            "    0.00254903  0.03448036  0.02104035 -0.01352658 -0.01188558\n",
            "   -0.02534717 -0.0408116  -0.02065067  0.04372059 -0.00136667\n",
            "    0.01783191 -0.03514541  0.00953441 -0.01628549  0.00104789\n",
            "    0.01018012  0.03794882 -0.01101596 -0.02589196 -0.00603502\n",
            "   -0.0409821  -0.02064189 -0.00353545 -0.0471881  -0.03329255\n",
            "   -0.03718376  0.00927017  0.04738073  0.03656883  0.00684609\n",
            "   -0.0297838  -0.03349813 -0.03369614  0.02716741  0.03263204\n",
            "   -0.02992407 -0.00305359 -0.00094334  0.02729524 -0.02041771\n",
            "   -0.02069961 -0.01999833 -0.02212605 -0.00496538]\n",
            "  [ 0.01550556 -0.03073793 -0.01657514  0.04388508  0.04519833\n",
            "    0.04474908 -0.01626305 -0.01112858 -0.04119574 -0.03676454\n",
            "   -0.01261532  0.02541932 -0.04288764  0.03323213  0.00200022\n",
            "    0.00448715  0.03953571 -0.03398838 -0.03729556 -0.03747735\n",
            "    0.04705529 -0.03870758  0.02687493  0.01517648  0.03105351\n",
            "    0.02485174 -0.00396323 -0.00829367  0.03062231  0.04509406\n",
            "   -0.04248497 -0.037223    0.00148165 -0.00989485  0.04928816\n",
            "    0.02073791 -0.02234076 -0.04424594 -0.02823713 -0.04317984\n",
            "    0.0132019  -0.04357342 -0.01685517 -0.01273872 -0.01674595\n",
            "    0.0089938  -0.04236448  0.02079831  0.00625018 -0.02791625\n",
            "    0.02193343 -0.03091064  0.0127895   0.00111379  0.03998116\n",
            "    0.04247667  0.00624429 -0.04775885 -0.00795097 -0.02462096\n",
            "    0.00908478  0.02769121  0.01497835 -0.04407444]\n",
            "  [ 0.01306163 -0.00029137  0.02523853  0.02578535 -0.01255159\n",
            "   -0.04613746  0.00627929 -0.00548049  0.03792496  0.02865959\n",
            "    0.0449047  -0.01578961  0.0326502   0.03653623  0.03577707\n",
            "    0.01987338 -0.00423781  0.0276006   0.0289237  -0.02432672\n",
            "    0.0348309   0.02199973 -0.01046683  0.03402403  0.02578784\n",
            "   -0.02113949  0.02071779 -0.03152972  0.01562532 -0.02868026\n",
            "   -0.04126079  0.04509311  0.04633092  0.04921129  0.0170921\n",
            "   -0.00509778  0.03472428  0.00489912  0.01375184 -0.03673223\n",
            "    0.03283622 -0.00851157 -0.04460839  0.00561848  0.02448482\n",
            "   -0.0371035   0.04484589  0.04544649 -0.04682609 -0.00362617\n",
            "   -0.03161325  0.02559853  0.03013292  0.04116856 -0.00476555\n",
            "   -0.01201155  0.00488983  0.01461721 -0.02120092  0.01679179\n",
            "   -0.03951026 -0.00741352  0.00452285  0.0402712 ]\n",
            "  [ 0.04014392  0.04387662  0.04638029  0.03154327  0.01052644\n",
            "    0.03358531 -0.02701228  0.00098719 -0.0085374  -0.04560028\n",
            "    0.0221213  -0.01166163  0.01093855 -0.03823854 -0.03764065\n",
            "    0.04870233  0.03106103  0.04650679  0.01396723  0.03393004\n",
            "   -0.0340117   0.02782855 -0.01545335 -0.04683533  0.0207192\n",
            "   -0.00316743 -0.01649119 -0.00687276  0.0196063   0.04485181\n",
            "   -0.04037048 -0.01369305 -0.04787716 -0.04860805  0.04413969\n",
            "   -0.00113566 -0.00693015  0.01751877 -0.02561444  0.0144595\n",
            "   -0.00148911  0.02096583 -0.01871884  0.02512939 -0.02176412\n",
            "    0.00204288  0.00567647  0.02506283 -0.01950981  0.04524245\n",
            "   -0.00962646 -0.02510597  0.00162282 -0.02728374  0.04849717\n",
            "   -0.0312008   0.02794535  0.00200571 -0.02415649 -0.0234062\n",
            "    0.04431626  0.00724288 -0.03033091  0.01833714]\n",
            "  [ 0.0176026   0.01222446 -0.04534577 -0.01773416  0.0051293\n",
            "   -0.03593044  0.01720666 -0.00055952 -0.01466447 -0.03673472\n",
            "   -0.03328468  0.04263693  0.0374921  -0.00561519 -0.00993188\n",
            "    0.03461206  0.00208893  0.03604778  0.0050356  -0.02001536\n",
            "   -0.02438113  0.00765001 -0.03692616 -0.01107187 -0.04981209\n",
            "   -0.00518445 -0.04464669 -0.04931805 -0.01844219 -0.01505361\n",
            "   -0.00514302 -0.00444795 -0.00715903 -0.04237228 -0.0222384\n",
            "   -0.01700731  0.02124164  0.00156366  0.03861082 -0.02292929\n",
            "    0.04658145 -0.0285102  -0.00387917 -0.02879461 -0.00692327\n",
            "    0.01312338  0.00912119 -0.04588247  0.02924866  0.02624759\n",
            "   -0.04399561  0.00132453  0.00262504 -0.00814712  0.01086898\n",
            "    0.03394354 -0.02500324 -0.0257331  -0.04510596  0.04419651\n",
            "   -0.01748803  0.03011427  0.02229324  0.03459504]\n",
            "  [ 0.03008905 -0.02708652  0.0101882  -0.00922459  0.01827123\n",
            "   -0.01676871  0.04752053 -0.02609205  0.03296229  0.04827176\n",
            "   -0.03150729  0.0030893   0.00678586 -0.0092913  -0.0015456\n",
            "    0.04559099 -0.00982591 -0.00702387  0.03924784 -0.01497241\n",
            "   -0.00780264  0.01999489  0.01081066 -0.01869565 -0.03812901\n",
            "   -0.0467254   0.0291166  -0.0171823  -0.00536429 -0.03241035\n",
            "    0.02711353  0.03839225 -0.01961814 -0.01036434 -0.017677\n",
            "    0.00167533  0.04987394  0.01023711  0.04906913 -0.03455827\n",
            "    0.03280485  0.01631346 -0.02002338 -0.03346761 -0.00043501\n",
            "    0.01728847  0.03496308  0.0210927   0.01204295 -0.00530248\n",
            "   -0.049428    0.02058354  0.04548938  0.03000552 -0.0113738\n",
            "    0.01295965  0.04109273  0.024411    0.03107151  0.00237136\n",
            "   -0.04635267  0.01396981  0.02570547 -0.00108304]\n",
            "  [ 0.00661464 -0.00268372  0.03072771 -0.02424234 -0.02850436\n",
            "   -0.01566114  0.01841811  0.0487496  -0.01518407  0.00083268\n",
            "   -0.04821128 -0.0349046  -0.0013477  -0.0156139  -0.00915993\n",
            "   -0.00231592 -0.04952142 -0.0037332   0.04557308  0.03570307\n",
            "    0.02918242  0.01705673 -0.04580396  0.02594676 -0.01443242\n",
            "    0.00195428  0.01583553  0.00572064  0.00267776 -0.00294968\n",
            "   -0.0453933   0.0276173  -0.01208489  0.03393593 -0.02179235\n",
            "   -0.00379214 -0.00054288 -0.01976115  0.03432018  0.0245665\n",
            "    0.04403318  0.00243542  0.04108019  0.01171828 -0.01909883\n",
            "    0.00524156 -0.04733441  0.00177892 -0.04366906  0.03285621\n",
            "    0.00032058 -0.01272175  0.02178117 -0.02103499 -0.01758564\n",
            "   -0.02568485 -0.02364271 -0.04558505  0.04192374 -0.01216513\n",
            "   -0.00479583 -0.00441415  0.04019742 -0.01954389]\n",
            "  [-0.03874463 -0.01058749 -0.03875364  0.01228637  0.00675702\n",
            "    0.00472992 -0.03050926 -0.00367564  0.04138651 -0.03983248\n",
            "   -0.01326003 -0.02349048  0.00163962 -0.00829741 -0.03759261\n",
            "    0.01614105 -0.00707742  0.03655963  0.01522941 -0.00273478\n",
            "    0.01939157  0.04036775 -0.04581729 -0.03468774  0.02337069\n",
            "   -0.0421999  -0.0336292  -0.04772884  0.03931545  0.04440728\n",
            "   -0.02617148 -0.0331101  -0.00763166  0.00636496 -0.0433537\n",
            "    0.0111887  -0.03533628  0.04927217 -0.01099644  0.03338618\n",
            "    0.03423408  0.02126246  0.01323507 -0.00865197 -0.03759478\n",
            "    0.01758852  0.02644867  0.02011198 -0.03668995 -0.02518882\n",
            "   -0.00187837 -0.0269022   0.04173002  0.04565456 -0.02579072\n",
            "    0.00984886 -0.0220669  -0.01770941 -0.02844989  0.04990439\n",
            "   -0.01704783  0.04349634  0.03375239 -0.04754336]\n",
            "  [ 0.02995275 -0.03272114  0.03072407  0.0309852   0.0084041\n",
            "    0.01932998 -0.03737915 -0.00839493 -0.04285343 -0.0424363\n",
            "   -0.02645029  0.03639663 -0.01557462 -0.01118412  0.01789979\n",
            "   -0.03536505  0.0498232  -0.03342346 -0.03721095 -0.03784418\n",
            "    0.04634749 -0.00212445 -0.01585193  0.02945841  0.01251963\n",
            "    0.02326579  0.00101332 -0.04694042 -0.02781951 -0.04463675\n",
            "   -0.04405266  0.01839432  0.03010559  0.04994253  0.00197754\n",
            "    0.04848183 -0.02950091 -0.03230824  0.01231443  0.01157529\n",
            "   -0.02860181 -0.03868952 -0.03610698  0.02303085 -0.03262158\n",
            "   -0.02926401  0.03450091 -0.00703448 -0.03894718 -0.00832565\n",
            "   -0.00766613  0.01180812 -0.01382757 -0.02554777  0.03556489\n",
            "    0.02413673 -0.00548701 -0.04770793 -0.03684411  0.01380471\n",
            "   -0.0370584  -0.01068547  0.02992617 -0.01742355]\n",
            "  [ 0.01411651 -0.03922284 -0.01923537 -0.01822212 -0.02526732\n",
            "   -0.02385937 -0.01654126  0.00164239  0.04162924  0.04565472\n",
            "   -0.02870872  0.04220133  0.01818201  0.03591533 -0.0107947\n",
            "   -0.04662888  0.04921548  0.03495841  0.00040653  0.00044838\n",
            "   -0.03855012  0.03789497  0.02800434  0.03817454 -0.04973383\n",
            "    0.00979563 -0.01553594 -0.04047557 -0.04543757  0.04746536\n",
            "   -0.0061974  -0.04035417 -0.00486957 -0.03473518  0.00168184\n",
            "   -0.03241485 -0.0411828   0.03935425  0.01801844  0.00025592\n",
            "   -0.02129672 -0.0065408  -0.0226836  -0.01640974  0.00024047\n",
            "    0.02304414  0.00062209 -0.02752606  0.01520646  0.02973678\n",
            "    0.01397676 -0.02862434 -0.04150952 -0.0081261   0.02648226\n",
            "    0.02963854  0.00034527  0.0444391   0.01068247 -0.00123787\n",
            "   -0.03635906 -0.00465674  0.01745353  0.02863394]\n",
            "  [-0.03617517 -0.04479401  0.02132246  0.00568207 -0.00693429\n",
            "    0.00961236 -0.01885548  0.0363626   0.01879592  0.00854819\n",
            "    0.02772149 -0.0493209  -0.00127101  0.00860746  0.04609935\n",
            "   -0.02920376 -0.03899586  0.03099201  0.03541693 -0.01425803\n",
            "   -0.04553853 -0.0289623   0.02637324 -0.03897643  0.02232376\n",
            "    0.01566343  0.03034924  0.03075348  0.02294293 -0.04483004\n",
            "    0.0014601  -0.00875185 -0.01236731  0.01262213  0.02523489\n",
            "   -0.0067688  -0.02469683 -0.0133435  -0.02794423 -0.00433551\n",
            "   -0.01704867  0.01416223 -0.02438737  0.0097617   0.00100954\n",
            "    0.03470347 -0.04247596 -0.00565677 -0.00155935  0.043862\n",
            "   -0.04533553  0.03303007  0.04025631 -0.01410381  0.0464499\n",
            "    0.01140804  0.00492727 -0.03151488 -0.04880526 -0.01451861\n",
            "   -0.04094861  0.01748141 -0.01629136  0.01921311]\n",
            "  [-0.03617517 -0.04479401  0.02132246  0.00568207 -0.00693429\n",
            "    0.00961236 -0.01885548  0.0363626   0.01879592  0.00854819\n",
            "    0.02772149 -0.0493209  -0.00127101  0.00860746  0.04609935\n",
            "   -0.02920376 -0.03899586  0.03099201  0.03541693 -0.01425803\n",
            "   -0.04553853 -0.0289623   0.02637324 -0.03897643  0.02232376\n",
            "    0.01566343  0.03034924  0.03075348  0.02294293 -0.04483004\n",
            "    0.0014601  -0.00875185 -0.01236731  0.01262213  0.02523489\n",
            "   -0.0067688  -0.02469683 -0.0133435  -0.02794423 -0.00433551\n",
            "   -0.01704867  0.01416223 -0.02438737  0.0097617   0.00100954\n",
            "    0.03470347 -0.04247596 -0.00565677 -0.00155935  0.043862\n",
            "   -0.04533553  0.03303007  0.04025631 -0.01410381  0.0464499\n",
            "    0.01140804  0.00492727 -0.03151488 -0.04880526 -0.01451861\n",
            "   -0.04094861  0.01748141 -0.01629136  0.01921311]]]\n"
          ]
        }
      ]
    },
    {
      "cell_type": "code",
      "source": [
        "inputs = layers.Input(shape=(1,), dtype=\"string\")\n",
        "x = text_vectorizer(inputs)\n",
        "x = embedding(x)\n",
        "x = layers.LSTM(64, return_sequences=True)(x)\n",
        "x = layers.LSTM(64)(x)\n",
        "x = layers.Dense(128, activation=\"relu\")(x)\n",
        "outputs = layers.Dense(3, activation=\"softmax\")(x)\n",
        "model = tf.keras.Model(inputs, outputs, name=\"LSTM_model\")"
      ],
      "metadata": {
        "id": "iZxlASYOHhfu"
      },
      "execution_count": 14,
      "outputs": []
    },
    {
      "cell_type": "code",
      "source": [
        "model.compile(loss=\"categorical_crossentropy\",\n",
        "              metrics=\"categorical_accuracy\",\n",
        "              optimizer=\"Adam\")"
      ],
      "metadata": {
        "id": "6jNkiRE9OcDD"
      },
      "execution_count": 15,
      "outputs": []
    },
    {
      "cell_type": "code",
      "source": [
        "model.fit(train_sentences,\n",
        "          train_labels,\n",
        "          validation_data=(val_sentences, val_labels),\n",
        "          epochs=5,\n",
        "          batch_size=32)"
      ],
      "metadata": {
        "colab": {
          "base_uri": "https://localhost:8080/"
        },
        "id": "8yqNymovPRY8",
        "outputId": "a627075a-1492-4ecd-d411-9baa55561a61"
      },
      "execution_count": 16,
      "outputs": [
        {
          "output_type": "stream",
          "name": "stdout",
          "text": [
            "Epoch 1/5\n",
            "773/773 [==============================] - 26s 15ms/step - loss: 0.8492 - categorical_accuracy: 0.6048 - val_loss: 0.7568 - val_categorical_accuracy: 0.6659\n",
            "Epoch 2/5\n",
            "773/773 [==============================] - 10s 13ms/step - loss: 0.6551 - categorical_accuracy: 0.7259 - val_loss: 0.7765 - val_categorical_accuracy: 0.6663\n",
            "Epoch 3/5\n",
            "773/773 [==============================] - 10s 13ms/step - loss: 0.5632 - categorical_accuracy: 0.7737 - val_loss: 0.8317 - val_categorical_accuracy: 0.6503\n",
            "Epoch 4/5\n",
            "773/773 [==============================] - 10s 13ms/step - loss: 0.4846 - categorical_accuracy: 0.8115 - val_loss: 0.9063 - val_categorical_accuracy: 0.6386\n",
            "Epoch 5/5\n",
            "773/773 [==============================] - 10s 13ms/step - loss: 0.4020 - categorical_accuracy: 0.8445 - val_loss: 0.9539 - val_categorical_accuracy: 0.6339\n"
          ]
        },
        {
          "output_type": "execute_result",
          "data": {
            "text/plain": [
              "<keras.callbacks.History at 0x7ff7b05eb790>"
            ]
          },
          "metadata": {},
          "execution_count": 16
        }
      ]
    },
    {
      "cell_type": "markdown",
      "source": [
        "hmmmmm...\n",
        "its little bit better than guessing😁😂\n",
        "but where did i make mistake...?🤔"
      ],
      "metadata": {
        "id": "2a3RxgRGUeFb"
      }
    }
  ]
}