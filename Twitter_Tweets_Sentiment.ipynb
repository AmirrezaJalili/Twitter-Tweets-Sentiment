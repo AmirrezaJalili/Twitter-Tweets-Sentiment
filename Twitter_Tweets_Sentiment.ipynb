{
  "nbformat": 4,
  "nbformat_minor": 0,
  "metadata": {
    "colab": {
      "name": "Twitter Tweets Sentiment.ipynb",
      "provenance": [],
      "mount_file_id": "https://github.com/AmirrezaJalili/Twitter-Tweets-Sentiment/blob/main/Twitter_Tweets_Sentiment.ipynb",
      "authorship_tag": "ABX9TyMSGaFp/43rnCfJW8VnDItB",
      "include_colab_link": true
    },
    "kernelspec": {
      "name": "python3",
      "display_name": "Python 3"
    },
    "language_info": {
      "name": "python"
    },
    "accelerator": "GPU"
  },
  "cells": [
    {
      "cell_type": "markdown",
      "metadata": {
        "id": "view-in-github",
        "colab_type": "text"
      },
      "source": [
        "<a href=\"https://colab.research.google.com/github/AmirrezaJalili/Twitter-Tweets-Sentiment/blob/main/Twitter_Tweets_Sentiment.ipynb\" target=\"_parent\"><img src=\"https://colab.research.google.com/assets/colab-badge.svg\" alt=\"Open In Colab\"/></a>"
      ]
    },
    {
      "cell_type": "markdown",
      "source": [
        "# Twitter Tweets Sentiment 👍😐👎"
      ],
      "metadata": {
        "id": "F8lwVK0W9jvV"
      }
    },
    {
      "cell_type": "markdown",
      "source": [
        "## Importing necessary tools"
      ],
      "metadata": {
        "id": "C3piGNqBDPPp"
      }
    },
    {
      "cell_type": "code",
      "source": [
        "import pandas as pd\n",
        "import numpy as np\n",
        "import tensorflow as tf\n",
        "import matplotlib.pyplot as plt\n",
        "from sklearn.model_selection import train_test_split\n",
        "import random\n",
        "from random import randint\n",
        "from tensorflow.keras.layers.experimental.preprocessing import TextVectorization\n",
        "from tensorflow.keras import layers\n",
        "from sklearn.preprocessing import LabelBinarizer\n",
        "import seaborn as sns\n",
        "from sklearn.naive_bayes import MultinomialNB\n",
        "from sklearn.feature_extraction.text import TfidfVectorizer\n",
        "from sklearn.pipeline import Pipeline\n",
        "from sklearn.preprocessing import LabelEncoder\n",
        "import tensorflow_hub as hub"
      ],
      "metadata": {
        "id": "NU93A2xB6zgL"
      },
      "execution_count": 45,
      "outputs": []
    },
    {
      "cell_type": "markdown",
      "source": [
        "## Unzip data\n",
        "data: https://www.kaggle.com/datasets/yasserh/twitter-tweets-sentiment-dataset\n"
      ],
      "metadata": {
        "id": "uEuyyrk3EUbv"
      }
    },
    {
      "cell_type": "code",
      "execution_count": 46,
      "metadata": {
        "id": "srg2We7D5KLc"
      },
      "outputs": [],
      "source": [
        "# !unzip \"drive/MyDrive/deep learning/zip files/Twitter Tweets Sentiment Dataset.zip\" -d \"drive/MyDrive/deep learning/data/Twitter Tweets Sentiment Dataset\""
      ]
    },
    {
      "cell_type": "markdown",
      "source": [
        "## Walk trough dataset"
      ],
      "metadata": {
        "id": "Ewr05fdrFR_L"
      }
    },
    {
      "cell_type": "code",
      "source": [
        "df = pd.read_csv(\"drive/MyDrive/deep learning/data/Twitter Tweets Sentiment Dataset/Tweets.csv\")\n",
        "df"
      ],
      "metadata": {
        "colab": {
          "base_uri": "https://localhost:8080/",
          "height": 424
        },
        "id": "Y0IfF97Q6enp",
        "outputId": "c64a5a82-c946-4f96-88b6-3f21215ea855"
      },
      "execution_count": 47,
      "outputs": [
        {
          "output_type": "execute_result",
          "data": {
            "text/plain": [
              "           textID                                               text  \\\n",
              "0      cb774db0d1                I`d have responded, if I were going   \n",
              "1      549e992a42      Sooo SAD I will miss you here in San Diego!!!   \n",
              "2      088c60f138                          my boss is bullying me...   \n",
              "3      9642c003ef                     what interview! leave me alone   \n",
              "4      358bd9e861   Sons of ****, why couldn`t they put them on t...   \n",
              "...           ...                                                ...   \n",
              "27476  4eac33d1c0   wish we could come see u on Denver  husband l...   \n",
              "27477  4f4c4fc327   I`ve wondered about rake to.  The client has ...   \n",
              "27478  f67aae2310   Yay good for both of you. Enjoy the break - y...   \n",
              "27479  ed167662a5                         But it was worth it  ****.   \n",
              "27480  6f7127d9d7     All this flirting going on - The ATG smiles...   \n",
              "\n",
              "                                           selected_text sentiment  \n",
              "0                    I`d have responded, if I were going   neutral  \n",
              "1                                               Sooo SAD  negative  \n",
              "2                                            bullying me  negative  \n",
              "3                                         leave me alone  negative  \n",
              "4                                          Sons of ****,  negative  \n",
              "...                                                  ...       ...  \n",
              "27476                                             d lost  negative  \n",
              "27477                                      , don`t force  negative  \n",
              "27478                          Yay good for both of you.  positive  \n",
              "27479                         But it was worth it  ****.  positive  \n",
              "27480  All this flirting going on - The ATG smiles. Y...   neutral  \n",
              "\n",
              "[27481 rows x 4 columns]"
            ],
            "text/html": [
              "\n",
              "  <div id=\"df-817d9b51-46f7-4b5d-af77-18e3728fe839\">\n",
              "    <div class=\"colab-df-container\">\n",
              "      <div>\n",
              "<style scoped>\n",
              "    .dataframe tbody tr th:only-of-type {\n",
              "        vertical-align: middle;\n",
              "    }\n",
              "\n",
              "    .dataframe tbody tr th {\n",
              "        vertical-align: top;\n",
              "    }\n",
              "\n",
              "    .dataframe thead th {\n",
              "        text-align: right;\n",
              "    }\n",
              "</style>\n",
              "<table border=\"1\" class=\"dataframe\">\n",
              "  <thead>\n",
              "    <tr style=\"text-align: right;\">\n",
              "      <th></th>\n",
              "      <th>textID</th>\n",
              "      <th>text</th>\n",
              "      <th>selected_text</th>\n",
              "      <th>sentiment</th>\n",
              "    </tr>\n",
              "  </thead>\n",
              "  <tbody>\n",
              "    <tr>\n",
              "      <th>0</th>\n",
              "      <td>cb774db0d1</td>\n",
              "      <td>I`d have responded, if I were going</td>\n",
              "      <td>I`d have responded, if I were going</td>\n",
              "      <td>neutral</td>\n",
              "    </tr>\n",
              "    <tr>\n",
              "      <th>1</th>\n",
              "      <td>549e992a42</td>\n",
              "      <td>Sooo SAD I will miss you here in San Diego!!!</td>\n",
              "      <td>Sooo SAD</td>\n",
              "      <td>negative</td>\n",
              "    </tr>\n",
              "    <tr>\n",
              "      <th>2</th>\n",
              "      <td>088c60f138</td>\n",
              "      <td>my boss is bullying me...</td>\n",
              "      <td>bullying me</td>\n",
              "      <td>negative</td>\n",
              "    </tr>\n",
              "    <tr>\n",
              "      <th>3</th>\n",
              "      <td>9642c003ef</td>\n",
              "      <td>what interview! leave me alone</td>\n",
              "      <td>leave me alone</td>\n",
              "      <td>negative</td>\n",
              "    </tr>\n",
              "    <tr>\n",
              "      <th>4</th>\n",
              "      <td>358bd9e861</td>\n",
              "      <td>Sons of ****, why couldn`t they put them on t...</td>\n",
              "      <td>Sons of ****,</td>\n",
              "      <td>negative</td>\n",
              "    </tr>\n",
              "    <tr>\n",
              "      <th>...</th>\n",
              "      <td>...</td>\n",
              "      <td>...</td>\n",
              "      <td>...</td>\n",
              "      <td>...</td>\n",
              "    </tr>\n",
              "    <tr>\n",
              "      <th>27476</th>\n",
              "      <td>4eac33d1c0</td>\n",
              "      <td>wish we could come see u on Denver  husband l...</td>\n",
              "      <td>d lost</td>\n",
              "      <td>negative</td>\n",
              "    </tr>\n",
              "    <tr>\n",
              "      <th>27477</th>\n",
              "      <td>4f4c4fc327</td>\n",
              "      <td>I`ve wondered about rake to.  The client has ...</td>\n",
              "      <td>, don`t force</td>\n",
              "      <td>negative</td>\n",
              "    </tr>\n",
              "    <tr>\n",
              "      <th>27478</th>\n",
              "      <td>f67aae2310</td>\n",
              "      <td>Yay good for both of you. Enjoy the break - y...</td>\n",
              "      <td>Yay good for both of you.</td>\n",
              "      <td>positive</td>\n",
              "    </tr>\n",
              "    <tr>\n",
              "      <th>27479</th>\n",
              "      <td>ed167662a5</td>\n",
              "      <td>But it was worth it  ****.</td>\n",
              "      <td>But it was worth it  ****.</td>\n",
              "      <td>positive</td>\n",
              "    </tr>\n",
              "    <tr>\n",
              "      <th>27480</th>\n",
              "      <td>6f7127d9d7</td>\n",
              "      <td>All this flirting going on - The ATG smiles...</td>\n",
              "      <td>All this flirting going on - The ATG smiles. Y...</td>\n",
              "      <td>neutral</td>\n",
              "    </tr>\n",
              "  </tbody>\n",
              "</table>\n",
              "<p>27481 rows × 4 columns</p>\n",
              "</div>\n",
              "      <button class=\"colab-df-convert\" onclick=\"convertToInteractive('df-817d9b51-46f7-4b5d-af77-18e3728fe839')\"\n",
              "              title=\"Convert this dataframe to an interactive table.\"\n",
              "              style=\"display:none;\">\n",
              "        \n",
              "  <svg xmlns=\"http://www.w3.org/2000/svg\" height=\"24px\"viewBox=\"0 0 24 24\"\n",
              "       width=\"24px\">\n",
              "    <path d=\"M0 0h24v24H0V0z\" fill=\"none\"/>\n",
              "    <path d=\"M18.56 5.44l.94 2.06.94-2.06 2.06-.94-2.06-.94-.94-2.06-.94 2.06-2.06.94zm-11 1L8.5 8.5l.94-2.06 2.06-.94-2.06-.94L8.5 2.5l-.94 2.06-2.06.94zm10 10l.94 2.06.94-2.06 2.06-.94-2.06-.94-.94-2.06-.94 2.06-2.06.94z\"/><path d=\"M17.41 7.96l-1.37-1.37c-.4-.4-.92-.59-1.43-.59-.52 0-1.04.2-1.43.59L10.3 9.45l-7.72 7.72c-.78.78-.78 2.05 0 2.83L4 21.41c.39.39.9.59 1.41.59.51 0 1.02-.2 1.41-.59l7.78-7.78 2.81-2.81c.8-.78.8-2.07 0-2.86zM5.41 20L4 18.59l7.72-7.72 1.47 1.35L5.41 20z\"/>\n",
              "  </svg>\n",
              "      </button>\n",
              "      \n",
              "  <style>\n",
              "    .colab-df-container {\n",
              "      display:flex;\n",
              "      flex-wrap:wrap;\n",
              "      gap: 12px;\n",
              "    }\n",
              "\n",
              "    .colab-df-convert {\n",
              "      background-color: #E8F0FE;\n",
              "      border: none;\n",
              "      border-radius: 50%;\n",
              "      cursor: pointer;\n",
              "      display: none;\n",
              "      fill: #1967D2;\n",
              "      height: 32px;\n",
              "      padding: 0 0 0 0;\n",
              "      width: 32px;\n",
              "    }\n",
              "\n",
              "    .colab-df-convert:hover {\n",
              "      background-color: #E2EBFA;\n",
              "      box-shadow: 0px 1px 2px rgba(60, 64, 67, 0.3), 0px 1px 3px 1px rgba(60, 64, 67, 0.15);\n",
              "      fill: #174EA6;\n",
              "    }\n",
              "\n",
              "    [theme=dark] .colab-df-convert {\n",
              "      background-color: #3B4455;\n",
              "      fill: #D2E3FC;\n",
              "    }\n",
              "\n",
              "    [theme=dark] .colab-df-convert:hover {\n",
              "      background-color: #434B5C;\n",
              "      box-shadow: 0px 1px 3px 1px rgba(0, 0, 0, 0.15);\n",
              "      filter: drop-shadow(0px 1px 2px rgba(0, 0, 0, 0.3));\n",
              "      fill: #FFFFFF;\n",
              "    }\n",
              "  </style>\n",
              "\n",
              "      <script>\n",
              "        const buttonEl =\n",
              "          document.querySelector('#df-817d9b51-46f7-4b5d-af77-18e3728fe839 button.colab-df-convert');\n",
              "        buttonEl.style.display =\n",
              "          google.colab.kernel.accessAllowed ? 'block' : 'none';\n",
              "\n",
              "        async function convertToInteractive(key) {\n",
              "          const element = document.querySelector('#df-817d9b51-46f7-4b5d-af77-18e3728fe839');\n",
              "          const dataTable =\n",
              "            await google.colab.kernel.invokeFunction('convertToInteractive',\n",
              "                                                     [key], {});\n",
              "          if (!dataTable) return;\n",
              "\n",
              "          const docLinkHtml = 'Like what you see? Visit the ' +\n",
              "            '<a target=\"_blank\" href=https://colab.research.google.com/notebooks/data_table.ipynb>data table notebook</a>'\n",
              "            + ' to learn more about interactive tables.';\n",
              "          element.innerHTML = '';\n",
              "          dataTable['output_type'] = 'display_data';\n",
              "          await google.colab.output.renderOutput(dataTable, element);\n",
              "          const docLink = document.createElement('div');\n",
              "          docLink.innerHTML = docLinkHtml;\n",
              "          element.appendChild(docLink);\n",
              "        }\n",
              "      </script>\n",
              "    </div>\n",
              "  </div>\n",
              "  "
            ]
          },
          "metadata": {},
          "execution_count": 47
        }
      ]
    },
    {
      "cell_type": "code",
      "source": [
        "df.isna().sum()"
      ],
      "metadata": {
        "colab": {
          "base_uri": "https://localhost:8080/"
        },
        "id": "ksTrpoQE1owi",
        "outputId": "7a125207-e935-4dc9-e5e1-a06706408c58"
      },
      "execution_count": 48,
      "outputs": [
        {
          "output_type": "execute_result",
          "data": {
            "text/plain": [
              "textID           0\n",
              "text             1\n",
              "selected_text    1\n",
              "sentiment        0\n",
              "dtype: int64"
            ]
          },
          "metadata": {},
          "execution_count": 48
        }
      ]
    },
    {
      "cell_type": "markdown",
      "source": [
        "there are missing values in our dataset, \n",
        "\n",
        "we'll drop them to make our model work properly"
      ],
      "metadata": {
        "id": "s2CMfjRa1x6s"
      }
    },
    {
      "cell_type": "code",
      "source": [
        "# drop missing values from the dataset\n",
        "df = df.dropna()\n",
        "df"
      ],
      "metadata": {
        "colab": {
          "base_uri": "https://localhost:8080/",
          "height": 424
        },
        "id": "-c_ZnzQuvf5u",
        "outputId": "f17e6fd3-043a-4c21-cbbc-761d5167d0c3"
      },
      "execution_count": 49,
      "outputs": [
        {
          "output_type": "execute_result",
          "data": {
            "text/plain": [
              "           textID                                               text  \\\n",
              "0      cb774db0d1                I`d have responded, if I were going   \n",
              "1      549e992a42      Sooo SAD I will miss you here in San Diego!!!   \n",
              "2      088c60f138                          my boss is bullying me...   \n",
              "3      9642c003ef                     what interview! leave me alone   \n",
              "4      358bd9e861   Sons of ****, why couldn`t they put them on t...   \n",
              "...           ...                                                ...   \n",
              "27476  4eac33d1c0   wish we could come see u on Denver  husband l...   \n",
              "27477  4f4c4fc327   I`ve wondered about rake to.  The client has ...   \n",
              "27478  f67aae2310   Yay good for both of you. Enjoy the break - y...   \n",
              "27479  ed167662a5                         But it was worth it  ****.   \n",
              "27480  6f7127d9d7     All this flirting going on - The ATG smiles...   \n",
              "\n",
              "                                           selected_text sentiment  \n",
              "0                    I`d have responded, if I were going   neutral  \n",
              "1                                               Sooo SAD  negative  \n",
              "2                                            bullying me  negative  \n",
              "3                                         leave me alone  negative  \n",
              "4                                          Sons of ****,  negative  \n",
              "...                                                  ...       ...  \n",
              "27476                                             d lost  negative  \n",
              "27477                                      , don`t force  negative  \n",
              "27478                          Yay good for both of you.  positive  \n",
              "27479                         But it was worth it  ****.  positive  \n",
              "27480  All this flirting going on - The ATG smiles. Y...   neutral  \n",
              "\n",
              "[27480 rows x 4 columns]"
            ],
            "text/html": [
              "\n",
              "  <div id=\"df-132cc60d-56b1-420e-988e-c97ceb800422\">\n",
              "    <div class=\"colab-df-container\">\n",
              "      <div>\n",
              "<style scoped>\n",
              "    .dataframe tbody tr th:only-of-type {\n",
              "        vertical-align: middle;\n",
              "    }\n",
              "\n",
              "    .dataframe tbody tr th {\n",
              "        vertical-align: top;\n",
              "    }\n",
              "\n",
              "    .dataframe thead th {\n",
              "        text-align: right;\n",
              "    }\n",
              "</style>\n",
              "<table border=\"1\" class=\"dataframe\">\n",
              "  <thead>\n",
              "    <tr style=\"text-align: right;\">\n",
              "      <th></th>\n",
              "      <th>textID</th>\n",
              "      <th>text</th>\n",
              "      <th>selected_text</th>\n",
              "      <th>sentiment</th>\n",
              "    </tr>\n",
              "  </thead>\n",
              "  <tbody>\n",
              "    <tr>\n",
              "      <th>0</th>\n",
              "      <td>cb774db0d1</td>\n",
              "      <td>I`d have responded, if I were going</td>\n",
              "      <td>I`d have responded, if I were going</td>\n",
              "      <td>neutral</td>\n",
              "    </tr>\n",
              "    <tr>\n",
              "      <th>1</th>\n",
              "      <td>549e992a42</td>\n",
              "      <td>Sooo SAD I will miss you here in San Diego!!!</td>\n",
              "      <td>Sooo SAD</td>\n",
              "      <td>negative</td>\n",
              "    </tr>\n",
              "    <tr>\n",
              "      <th>2</th>\n",
              "      <td>088c60f138</td>\n",
              "      <td>my boss is bullying me...</td>\n",
              "      <td>bullying me</td>\n",
              "      <td>negative</td>\n",
              "    </tr>\n",
              "    <tr>\n",
              "      <th>3</th>\n",
              "      <td>9642c003ef</td>\n",
              "      <td>what interview! leave me alone</td>\n",
              "      <td>leave me alone</td>\n",
              "      <td>negative</td>\n",
              "    </tr>\n",
              "    <tr>\n",
              "      <th>4</th>\n",
              "      <td>358bd9e861</td>\n",
              "      <td>Sons of ****, why couldn`t they put them on t...</td>\n",
              "      <td>Sons of ****,</td>\n",
              "      <td>negative</td>\n",
              "    </tr>\n",
              "    <tr>\n",
              "      <th>...</th>\n",
              "      <td>...</td>\n",
              "      <td>...</td>\n",
              "      <td>...</td>\n",
              "      <td>...</td>\n",
              "    </tr>\n",
              "    <tr>\n",
              "      <th>27476</th>\n",
              "      <td>4eac33d1c0</td>\n",
              "      <td>wish we could come see u on Denver  husband l...</td>\n",
              "      <td>d lost</td>\n",
              "      <td>negative</td>\n",
              "    </tr>\n",
              "    <tr>\n",
              "      <th>27477</th>\n",
              "      <td>4f4c4fc327</td>\n",
              "      <td>I`ve wondered about rake to.  The client has ...</td>\n",
              "      <td>, don`t force</td>\n",
              "      <td>negative</td>\n",
              "    </tr>\n",
              "    <tr>\n",
              "      <th>27478</th>\n",
              "      <td>f67aae2310</td>\n",
              "      <td>Yay good for both of you. Enjoy the break - y...</td>\n",
              "      <td>Yay good for both of you.</td>\n",
              "      <td>positive</td>\n",
              "    </tr>\n",
              "    <tr>\n",
              "      <th>27479</th>\n",
              "      <td>ed167662a5</td>\n",
              "      <td>But it was worth it  ****.</td>\n",
              "      <td>But it was worth it  ****.</td>\n",
              "      <td>positive</td>\n",
              "    </tr>\n",
              "    <tr>\n",
              "      <th>27480</th>\n",
              "      <td>6f7127d9d7</td>\n",
              "      <td>All this flirting going on - The ATG smiles...</td>\n",
              "      <td>All this flirting going on - The ATG smiles. Y...</td>\n",
              "      <td>neutral</td>\n",
              "    </tr>\n",
              "  </tbody>\n",
              "</table>\n",
              "<p>27480 rows × 4 columns</p>\n",
              "</div>\n",
              "      <button class=\"colab-df-convert\" onclick=\"convertToInteractive('df-132cc60d-56b1-420e-988e-c97ceb800422')\"\n",
              "              title=\"Convert this dataframe to an interactive table.\"\n",
              "              style=\"display:none;\">\n",
              "        \n",
              "  <svg xmlns=\"http://www.w3.org/2000/svg\" height=\"24px\"viewBox=\"0 0 24 24\"\n",
              "       width=\"24px\">\n",
              "    <path d=\"M0 0h24v24H0V0z\" fill=\"none\"/>\n",
              "    <path d=\"M18.56 5.44l.94 2.06.94-2.06 2.06-.94-2.06-.94-.94-2.06-.94 2.06-2.06.94zm-11 1L8.5 8.5l.94-2.06 2.06-.94-2.06-.94L8.5 2.5l-.94 2.06-2.06.94zm10 10l.94 2.06.94-2.06 2.06-.94-2.06-.94-.94-2.06-.94 2.06-2.06.94z\"/><path d=\"M17.41 7.96l-1.37-1.37c-.4-.4-.92-.59-1.43-.59-.52 0-1.04.2-1.43.59L10.3 9.45l-7.72 7.72c-.78.78-.78 2.05 0 2.83L4 21.41c.39.39.9.59 1.41.59.51 0 1.02-.2 1.41-.59l7.78-7.78 2.81-2.81c.8-.78.8-2.07 0-2.86zM5.41 20L4 18.59l7.72-7.72 1.47 1.35L5.41 20z\"/>\n",
              "  </svg>\n",
              "      </button>\n",
              "      \n",
              "  <style>\n",
              "    .colab-df-container {\n",
              "      display:flex;\n",
              "      flex-wrap:wrap;\n",
              "      gap: 12px;\n",
              "    }\n",
              "\n",
              "    .colab-df-convert {\n",
              "      background-color: #E8F0FE;\n",
              "      border: none;\n",
              "      border-radius: 50%;\n",
              "      cursor: pointer;\n",
              "      display: none;\n",
              "      fill: #1967D2;\n",
              "      height: 32px;\n",
              "      padding: 0 0 0 0;\n",
              "      width: 32px;\n",
              "    }\n",
              "\n",
              "    .colab-df-convert:hover {\n",
              "      background-color: #E2EBFA;\n",
              "      box-shadow: 0px 1px 2px rgba(60, 64, 67, 0.3), 0px 1px 3px 1px rgba(60, 64, 67, 0.15);\n",
              "      fill: #174EA6;\n",
              "    }\n",
              "\n",
              "    [theme=dark] .colab-df-convert {\n",
              "      background-color: #3B4455;\n",
              "      fill: #D2E3FC;\n",
              "    }\n",
              "\n",
              "    [theme=dark] .colab-df-convert:hover {\n",
              "      background-color: #434B5C;\n",
              "      box-shadow: 0px 1px 3px 1px rgba(0, 0, 0, 0.15);\n",
              "      filter: drop-shadow(0px 1px 2px rgba(0, 0, 0, 0.3));\n",
              "      fill: #FFFFFF;\n",
              "    }\n",
              "  </style>\n",
              "\n",
              "      <script>\n",
              "        const buttonEl =\n",
              "          document.querySelector('#df-132cc60d-56b1-420e-988e-c97ceb800422 button.colab-df-convert');\n",
              "        buttonEl.style.display =\n",
              "          google.colab.kernel.accessAllowed ? 'block' : 'none';\n",
              "\n",
              "        async function convertToInteractive(key) {\n",
              "          const element = document.querySelector('#df-132cc60d-56b1-420e-988e-c97ceb800422');\n",
              "          const dataTable =\n",
              "            await google.colab.kernel.invokeFunction('convertToInteractive',\n",
              "                                                     [key], {});\n",
              "          if (!dataTable) return;\n",
              "\n",
              "          const docLinkHtml = 'Like what you see? Visit the ' +\n",
              "            '<a target=\"_blank\" href=https://colab.research.google.com/notebooks/data_table.ipynb>data table notebook</a>'\n",
              "            + ' to learn more about interactive tables.';\n",
              "          element.innerHTML = '';\n",
              "          dataTable['output_type'] = 'display_data';\n",
              "          await google.colab.output.renderOutput(dataTable, element);\n",
              "          const docLink = document.createElement('div');\n",
              "          docLink.innerHTML = docLinkHtml;\n",
              "          element.appendChild(docLink);\n",
              "        }\n",
              "      </script>\n",
              "    </div>\n",
              "  </div>\n",
              "  "
            ]
          },
          "metadata": {},
          "execution_count": 49
        }
      ]
    },
    {
      "cell_type": "markdown",
      "source": [
        "row's number decresed only 1 \n",
        "\n",
        "it looks like there was only one row with two missing values in that. "
      ],
      "metadata": {
        "id": "AHNoj39o20de"
      }
    },
    {
      "cell_type": "code",
      "source": [
        "#let's find out how many of each class there\n",
        "df[\"sentiment\"].value_counts()"
      ],
      "metadata": {
        "id": "1iCoTpdL6wV8",
        "colab": {
          "base_uri": "https://localhost:8080/"
        },
        "outputId": "b01f9790-33d5-47a6-9b5a-fe39d0dccf91"
      },
      "execution_count": 50,
      "outputs": [
        {
          "output_type": "execute_result",
          "data": {
            "text/plain": [
              "neutral     11117\n",
              "positive     8582\n",
              "negative     7781\n",
              "Name: sentiment, dtype: int64"
            ]
          },
          "metadata": {},
          "execution_count": 50
        }
      ]
    },
    {
      "cell_type": "markdown",
      "source": [
        "number of each class is ~ \n",
        "\n",
        "40%\n",
        "\n",
        "30%\n",
        " \n",
        "30%"
      ],
      "metadata": {
        "id": "c7_PsDdY3vXQ"
      }
    },
    {
      "cell_type": "code",
      "source": [
        "sns.countplot(x = df[\"sentiment\"])\n",
        "plt.show()"
      ],
      "metadata": {
        "colab": {
          "base_uri": "https://localhost:8080/",
          "height": 279
        },
        "id": "UEGBL-6kCa78",
        "outputId": "a047215a-5c51-4ff1-8b84-078aed17e37b"
      },
      "execution_count": 51,
      "outputs": [
        {
          "output_type": "display_data",
          "data": {
            "text/plain": [
              "<Figure size 432x288 with 1 Axes>"
            ],
            "image/png": "[encoded data removed]"
          },
          "metadata": {
            "needs_background": "light"
          }
        }
      ]
    },
    {
      "cell_type": "markdown",
      "source": [
        "## show some sentences from dataset"
      ],
      "metadata": {
        "id": "u1TBwbqY4P9s"
      }
    },
    {
      "cell_type": "code",
      "source": [
        "for i in range(10):\n",
        "  num = randint(0, len(df))\n",
        "  sentence = df[\"text\"][num]\n",
        "  label = df[\"sentiment\"][num]\n",
        "  print(f\"{label}:\\n\\t{sentence}\")"
      ],
      "metadata": {
        "colab": {
          "base_uri": "https://localhost:8080/"
        },
        "id": "peRwB5lwPn6Y",
        "outputId": "ea36bc45-2084-42da-db75-15b1e75cff0c"
      },
      "execution_count": 52,
      "outputs": [
        {
          "output_type": "stream",
          "name": "stdout",
          "text": [
            "negative:\n",
            "\tit was actually so hot today ..the sun has got his hat on . every one has got a tan except me\n",
            "negative:\n",
            "\t_ What did he say about it?? Gosh! I missed the yesterday live chat.. I was at bed.. sick\n",
            "neutral:\n",
            "\t I really like miller park too  too bad the cubs aren`t leading, hopefully they can get it together soon\n",
            "neutral:\n",
            "\trecorded some of a new song today! u wont hear it for a long time thooo... we might play it at shows tho! so comeeeeee\n",
            "positive:\n",
            "\tBe beautiful        http://www.theskinsociety.com\n",
            "neutral:\n",
            "\tJust got back.\n",
            "negative:\n",
            "\tStill sick at home\n",
            "positive:\n",
            "\thttp://twitpic.com/4wh0l - im in love wit this fool from college hill\n",
            "negative:\n",
            "\tbinstruct suffers from an update of the mib package... and the developer of that package is on holidays\n",
            "positive:\n",
            "\t Hope that migraine doesn`t stick around for too long.\n"
          ]
        }
      ]
    },
    {
      "cell_type": "markdown",
      "source": [
        "## split data to train and test\n",
        "train = 80%\n",
        "\n",
        "valid = 20%"
      ],
      "metadata": {
        "id": "EyqEI6VtK2lZ"
      }
    },
    {
      "cell_type": "code",
      "source": [
        "train_sentences, val_sentences, train_labels, val_labels = train_test_split(df[\"text\"].to_numpy(),\n",
        "                                                                            df[\"sentiment\"].to_numpy(),\n",
        "                                                                            random_state=42,\n",
        "                                                                            test_size=0.2)\n",
        "len(train_sentences), len(train_labels), len(val_sentences), len(val_labels)"
      ],
      "metadata": {
        "colab": {
          "base_uri": "https://localhost:8080/"
        },
        "id": "bhx-6b18L8C7",
        "outputId": "4135f444-d30f-4513-e78e-a43eba7a6348"
      },
      "execution_count": 53,
      "outputs": [
        {
          "output_type": "execute_result",
          "data": {
            "text/plain": [
              "(21984, 21984, 5496, 5496)"
            ]
          },
          "metadata": {},
          "execution_count": 53
        }
      ]
    },
    {
      "cell_type": "markdown",
      "source": [
        "## Preprocessing"
      ],
      "metadata": {
        "id": "EJn_NwgWNasw"
      }
    },
    {
      "cell_type": "markdown",
      "source": [
        "### binarizing labels:"
      ],
      "metadata": {
        "id": "T5fk6DiT9Qlc"
      }
    },
    {
      "cell_type": "code",
      "source": [
        "lb = LabelBinarizer()\n",
        "train_labels_binary = lb.fit_transform(train_labels)\n",
        "val_labels_binary = lb.fit_transform(val_labels)\n",
        "train_labels, val_labels"
      ],
      "metadata": {
        "colab": {
          "base_uri": "https://localhost:8080/"
        },
        "id": "gsxa_VJhSsN8",
        "outputId": "78421a51-db9c-4d50-92ae-2f4f1b6c0a69"
      },
      "execution_count": 54,
      "outputs": [
        {
          "output_type": "execute_result",
          "data": {
            "text/plain": [
              "(array(['positive', 'positive', 'neutral', ..., 'neutral', 'positive',\n",
              "        'positive'], dtype=object),\n",
              " array(['positive', 'negative', 'neutral', ..., 'neutral', 'negative',\n",
              "        'neutral'], dtype=object))"
            ]
          },
          "metadata": {},
          "execution_count": 54
        }
      ]
    },
    {
      "cell_type": "code",
      "source": [
        "MEAN_SEQ_LEN = sum([len(i.split()) for i in train_sentences])//len(train_sentences)\n",
        "print(MEAN_SEQ_LEN)"
      ],
      "metadata": {
        "colab": {
          "base_uri": "https://localhost:8080/"
        },
        "id": "uTCiusLDjppn",
        "outputId": "082e8da1-b150-4470-9ef4-d831d77a0050"
      },
      "execution_count": 55,
      "outputs": [
        {
          "output_type": "stream",
          "name": "stdout",
          "text": [
            "12\n"
          ]
        }
      ]
    },
    {
      "cell_type": "code",
      "source": [
        "# it's better to set output_sequence_length more than mean length of sentences.  \n",
        "SEQ_LENGTH = 16"
      ],
      "metadata": {
        "id": "fRXvqLqO8Ccb"
      },
      "execution_count": 56,
      "outputs": []
    },
    {
      "cell_type": "markdown",
      "source": [
        "### vectorization(tokenization)"
      ],
      "metadata": {
        "id": "R3bGrlGQ9JVi"
      }
    },
    {
      "cell_type": "code",
      "source": [
        "from re import split\n",
        "text_vectorizer = TextVectorization(max_tokens=10000,\n",
        "                                    standardize=\"lower_and_strip_punctuation\",\n",
        "                                    split=\"whitespace\",\n",
        "                                    output_mode=\"int\",\n",
        "                                    output_sequence_length=SEQ_LENGTH)"
      ],
      "metadata": {
        "id": "4jCZQ3NOPU3c"
      },
      "execution_count": 57,
      "outputs": []
    },
    {
      "cell_type": "markdown",
      "source": [
        "## creating model"
      ],
      "metadata": {
        "id": "ywyKQp-AsWSj"
      }
    },
    {
      "cell_type": "code",
      "source": [
        "embedding = layers.Embedding(input_dim=10000,\n",
        "                                      output_dim=64,\n",
        "                                      input_length=SEQ_LENGTH,\n",
        "                                      name=\"embedding_1\")\n",
        "embedding"
      ],
      "metadata": {
        "colab": {
          "base_uri": "https://localhost:8080/"
        },
        "id": "0pAd8jcQGgy_",
        "outputId": "3b08c2fc-ea18-4610-9538-27d8749dec88"
      },
      "execution_count": 58,
      "outputs": [
        {
          "output_type": "execute_result",
          "data": {
            "text/plain": [
              "<keras.layers.embeddings.Embedding at 0x7fd86658a2d0>"
            ]
          },
          "metadata": {},
          "execution_count": 58
        }
      ]
    },
    {
      "cell_type": "code",
      "source": [
        "text_vectorizer.adapt(train_sentences)\n",
        "random_sentence = random.choice(train_sentences)\n",
        "print(f\"original sentence:\\n\\t{random_sentence}\\nvectorized sentence:\\n\\t{text_vectorizer([random_sentence])}\\nembedded sentence:\\n\\t{embedding(text_vectorizer([random_sentence]))}\")"
      ],
      "metadata": {
        "colab": {
          "base_uri": "https://localhost:8080/"
        },
        "id": "BP5dNOiur7nI",
        "outputId": "a917d97b-4c3d-40b3-d685-40049f749587"
      },
      "execution_count": 59,
      "outputs": [
        {
          "output_type": "stream",
          "name": "stdout",
          "text": [
            "original sentence:\n",
            "\tWhat a bad day!\n",
            "vectorized sentence:\n",
            "\t[[ 59   5 113  23   0   0   0   0   0   0   0   0   0   0   0   0]]\n",
            "embedded sentence:\n",
            "\t[[[ 0.00375708 -0.03489511  0.04057686 ...  0.02654744  0.03077454\n",
            "   -0.0391353 ]\n",
            "  [ 0.04416797  0.03470066  0.02871371 ...  0.04179043  0.03170761\n",
            "    0.01513112]\n",
            "  [-0.04084424 -0.01031585  0.00871443 ... -0.00813218 -0.00838417\n",
            "   -0.04606178]\n",
            "  ...\n",
            "  [ 0.0216409  -0.03101757 -0.04572031 ...  0.02642454 -0.004095\n",
            "    0.02969743]\n",
            "  [ 0.0216409  -0.03101757 -0.04572031 ...  0.02642454 -0.004095\n",
            "    0.02969743]\n",
            "  [ 0.0216409  -0.03101757 -0.04572031 ...  0.02642454 -0.004095\n",
            "    0.02969743]]]\n"
          ]
        }
      ]
    },
    {
      "cell_type": "code",
      "source": [
        "inputs = layers.Input(shape=(1,), dtype=\"string\")\n",
        "x = text_vectorizer(inputs)\n",
        "x = embedding(x)\n",
        "x = layers.LSTM(64, return_sequences=True)(x)\n",
        "x = layers.LSTM(64)(x)\n",
        "x = layers.Dense(128, activation=\"relu\")(x)\n",
        "outputs = layers.Dense(3, activation=\"softmax\")(x)\n",
        "model_LSTM = tf.keras.Model(inputs, outputs, name=\"LSTM_model\")"
      ],
      "metadata": {
        "id": "iZxlASYOHhfu"
      },
      "execution_count": 60,
      "outputs": []
    },
    {
      "cell_type": "code",
      "source": [
        "model_LSTM.compile(loss=\"categorical_crossentropy\",\n",
        "              metrics=\"categorical_accuracy\",\n",
        "              optimizer=\"Adam\")\n",
        "model_LSTM.summary()"
      ],
      "metadata": {
        "id": "6jNkiRE9OcDD",
        "colab": {
          "base_uri": "https://localhost:8080/"
        },
        "outputId": "fafbf875-a33f-45cf-b3de-4a141ebffd93"
      },
      "execution_count": 61,
      "outputs": [
        {
          "output_type": "stream",
          "name": "stdout",
          "text": [
            "Model: \"LSTM_model\"\n",
            "_________________________________________________________________\n",
            " Layer (type)                Output Shape              Param #   \n",
            "=================================================================\n",
            " input_2 (InputLayer)        [(None, 1)]               0         \n",
            "                                                                 \n",
            " text_vectorization_1 (TextV  (None, 16)               0         \n",
            " ectorization)                                                   \n",
            "                                                                 \n",
            " embedding_1 (Embedding)     (None, 16, 64)            640000    \n",
            "                                                                 \n",
            " lstm_2 (LSTM)               (None, 16, 64)            33024     \n",
            "                                                                 \n",
            " lstm_3 (LSTM)               (None, 64)                33024     \n",
            "                                                                 \n",
            " dense_12 (Dense)            (None, 128)               8320      \n",
            "                                                                 \n",
            " dense_13 (Dense)            (None, 3)                 387       \n",
            "                                                                 \n",
            "=================================================================\n",
            "Total params: 714,755\n",
            "Trainable params: 714,755\n",
            "Non-trainable params: 0\n",
            "_________________________________________________________________\n"
          ]
        }
      ]
    },
    {
      "cell_type": "code",
      "source": [
        "model_LSTM.fit(train_sentences,\n",
        "          train_labels_binary,\n",
        "          validation_data=(val_sentences, val_labels_binary),\n",
        "          epochs=5,\n",
        "          batch_size=32)"
      ],
      "metadata": {
        "colab": {
          "base_uri": "https://localhost:8080/"
        },
        "id": "8yqNymovPRY8",
        "outputId": "140fb03f-946e-497f-c82f-c906d1987955"
      },
      "execution_count": 62,
      "outputs": [
        {
          "output_type": "stream",
          "name": "stdout",
          "text": [
            "Epoch 1/5\n",
            "687/687 [==============================] - 18s 17ms/step - loss: 0.8383 - categorical_accuracy: 0.6129 - val_loss: 0.7515 - val_categorical_accuracy: 0.6747\n",
            "Epoch 2/5\n",
            "687/687 [==============================] - 11s 16ms/step - loss: 0.6220 - categorical_accuracy: 0.7439 - val_loss: 0.7382 - val_categorical_accuracy: 0.6860\n",
            "Epoch 3/5\n",
            "687/687 [==============================] - 11s 16ms/step - loss: 0.5232 - categorical_accuracy: 0.7965 - val_loss: 0.7738 - val_categorical_accuracy: 0.6738\n",
            "Epoch 4/5\n",
            "687/687 [==============================] - 11s 16ms/step - loss: 0.4434 - categorical_accuracy: 0.8310 - val_loss: 0.8873 - val_categorical_accuracy: 0.6690\n",
            "Epoch 5/5\n",
            "687/687 [==============================] - 11s 16ms/step - loss: 0.3706 - categorical_accuracy: 0.8564 - val_loss: 0.9549 - val_categorical_accuracy: 0.6563\n"
          ]
        },
        {
          "output_type": "execute_result",
          "data": {
            "text/plain": [
              "<keras.callbacks.History at 0x7fd8663ab990>"
            ]
          },
          "metadata": {},
          "execution_count": 62
        }
      ]
    },
    {
      "cell_type": "markdown",
      "source": [
        "hmmmmm...\n",
        "its little bit better than guessing😁😂\n",
        "\n",
        "but where did i make mistake...?🤔"
      ],
      "metadata": {
        "id": "2a3RxgRGUeFb"
      }
    },
    {
      "cell_type": "markdown",
      "source": [
        "## Nave Base:\n",
        "let's try Multinomial Nave Base of sklearn..."
      ],
      "metadata": {
        "id": "v6rGH75Qdt5G"
      }
    },
    {
      "cell_type": "code",
      "source": [
        "labelencoder = LabelEncoder()\n",
        "train_labels_ml = labelencoder.fit_transform(train_labels)\n",
        "val_labels_ml = labelencoder.fit_transform(val_labels)\n",
        "train_labels_ml, val_labels_ml"
      ],
      "metadata": {
        "colab": {
          "base_uri": "https://localhost:8080/"
        },
        "id": "9hmz42-kbO7R",
        "outputId": "bc2e340c-8254-4b46-b696-f0d8f884d34c"
      },
      "execution_count": 63,
      "outputs": [
        {
          "output_type": "execute_result",
          "data": {
            "text/plain": [
              "(array([2, 2, 1, ..., 1, 2, 2]), array([2, 0, 1, ..., 1, 0, 1]))"
            ]
          },
          "metadata": {},
          "execution_count": 63
        }
      ]
    },
    {
      "cell_type": "markdown",
      "source": [
        "### Creating model"
      ],
      "metadata": {
        "id": "GVBNyJRDewJy"
      }
    },
    {
      "cell_type": "code",
      "source": [
        "model_NB = Pipeline([\n",
        "                     (\"tfidf\", TfidfVectorizer()),\n",
        "                     (\"NB\", MultinomialNB())\n",
        "])"
      ],
      "metadata": {
        "id": "hTdG1xLiGz46"
      },
      "execution_count": 64,
      "outputs": []
    },
    {
      "cell_type": "code",
      "source": [
        "model_NB.fit(train_sentences, train_labels_ml)"
      ],
      "metadata": {
        "colab": {
          "base_uri": "https://localhost:8080/"
        },
        "id": "QvqQ_bg0ZDdj",
        "outputId": "cabd3bd9-a85e-480e-c66d-f5f608d13fa8"
      },
      "execution_count": 65,
      "outputs": [
        {
          "output_type": "execute_result",
          "data": {
            "text/plain": [
              "Pipeline(steps=[('tfidf', TfidfVectorizer()), ('NB', MultinomialNB())])"
            ]
          },
          "metadata": {},
          "execution_count": 65
        }
      ]
    },
    {
      "cell_type": "code",
      "source": [
        "model_NB.score(val_sentences, val_labels_ml)"
      ],
      "metadata": {
        "colab": {
          "base_uri": "https://localhost:8080/"
        },
        "id": "muQKzMTYaeS-",
        "outputId": "75eca254-c2c2-49d8-80ed-6c8a0183fee3"
      },
      "execution_count": 66,
      "outputs": [
        {
          "output_type": "execute_result",
          "data": {
            "text/plain": [
              "0.606259097525473"
            ]
          },
          "metadata": {},
          "execution_count": 66
        }
      ]
    },
    {
      "cell_type": "markdown",
      "source": [
        "ohhh no...!😫\n",
        "\n",
        "I should try other models in next commits\n",
        "\n",
        "but really whats wrong with my dataset?🤔\n",
        "\n",
        "if you have better idea i'll be thankful if you share with me😃\n"
      ],
      "metadata": {
        "id": "JpomwL3JdJUe"
      }
    },
    {
      "cell_type": "markdown",
      "source": [
        "## Let's try a pre-trained model\n",
        "model:\"https://tfhub.dev/google/universal-sentence-encoder-large/5\""
      ],
      "metadata": {
        "id": "CRpmF5-kLhyQ"
      }
    },
    {
      "cell_type": "code",
      "source": [
        "tf_hub_embedding = hub.KerasLayer(\"https://tfhub.dev/google/universal-sentence-encoder-large/5\",\n",
        "                                  input_shape=[],\n",
        "                                  dtype=tf.string)"
      ],
      "metadata": {
        "id": "rhDJLTDABcoq"
      },
      "execution_count": 67,
      "outputs": []
    },
    {
      "cell_type": "code",
      "source": [
        "tf_hub_model = tf.keras.Sequential([tf_hub_embedding,\n",
        "                                    layers.Dense(64, activation=\"relu\"),\n",
        "                                    layers.Dense(3, activation=\"softmax\")\n",
        "])\n"
      ],
      "metadata": {
        "id": "x0AKbTBfFb9h"
      },
      "execution_count": 68,
      "outputs": []
    },
    {
      "cell_type": "code",
      "source": [
        "tf_hub_model.compile(loss = \"categorical_crossentropy\",\n",
        "                       optimizer = \"Adam\",\n",
        "                       metrics = [\"categorical_accuracy\"])\n",
        "tf_hub_model.summary()"
      ],
      "metadata": {
        "id": "FPSM_81CGAzJ",
        "outputId": "9dc4b7dd-6fba-4226-be84-c7674c0c69a3",
        "colab": {
          "base_uri": "https://localhost:8080/"
        }
      },
      "execution_count": 69,
      "outputs": [
        {
          "output_type": "stream",
          "name": "stdout",
          "text": [
            "Model: \"sequential_5\"\n",
            "_________________________________________________________________\n",
            " Layer (type)                Output Shape              Param #   \n",
            "=================================================================\n",
            " keras_layer_3 (KerasLayer)  (None, 512)               147354880 \n",
            "                                                                 \n",
            " dense_14 (Dense)            (None, 64)                32832     \n",
            "                                                                 \n",
            " dense_15 (Dense)            (None, 3)                 195       \n",
            "                                                                 \n",
            "=================================================================\n",
            "Total params: 147,387,907\n",
            "Trainable params: 33,027\n",
            "Non-trainable params: 147,354,880\n",
            "_________________________________________________________________\n"
          ]
        }
      ]
    },
    {
      "cell_type": "code",
      "source": [
        "tf_hub_model.fit(train_sentences, train_labels_binary,\n",
        "                 epochs=5,\n",
        "                 validation_data=(val_sentences, val_labels_binary))"
      ],
      "metadata": {
        "id": "fkx1RWXYGlU4",
        "outputId": "5ee3f87d-4dd7-477b-a912-fda95a2a226b",
        "colab": {
          "base_uri": "https://localhost:8080/"
        }
      },
      "execution_count": 70,
      "outputs": [
        {
          "output_type": "stream",
          "name": "stdout",
          "text": [
            "Epoch 1/5\n",
            "687/687 [==============================] - 96s 95ms/step - loss: 0.7222 - categorical_accuracy: 0.6902 - val_loss: 0.6519 - val_categorical_accuracy: 0.7172\n",
            "Epoch 2/5\n",
            "687/687 [==============================] - 62s 90ms/step - loss: 0.6270 - categorical_accuracy: 0.7304 - val_loss: 0.6416 - val_categorical_accuracy: 0.7213\n",
            "Epoch 3/5\n",
            "687/687 [==============================] - 59s 86ms/step - loss: 0.6097 - categorical_accuracy: 0.7372 - val_loss: 0.6415 - val_categorical_accuracy: 0.7223\n",
            "Epoch 4/5\n",
            "687/687 [==============================] - 60s 88ms/step - loss: 0.5981 - categorical_accuracy: 0.7443 - val_loss: 0.6419 - val_categorical_accuracy: 0.7245\n",
            "Epoch 5/5\n",
            "687/687 [==============================] - 58s 84ms/step - loss: 0.5889 - categorical_accuracy: 0.7494 - val_loss: 0.6463 - val_categorical_accuracy: 0.7216\n"
          ]
        },
        {
          "output_type": "execute_result",
          "data": {
            "text/plain": [
              "<keras.callbacks.History at 0x7fd8804e1590>"
            ]
          },
          "metadata": {},
          "execution_count": 70
        }
      ]
    }
  ]
}